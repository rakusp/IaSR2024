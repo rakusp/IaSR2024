{
 "cells": [
  {
   "cell_type": "code",
   "execution_count": null,
   "metadata": {},
   "outputs": [],
   "source": [
    "import os\n",
    "import random\n",
    "import shutil\n",
    "from tqdm import tqdm\n",
    "random.seed(1337)"
   ]
  },
  {
   "cell_type": "code",
   "execution_count": 6,
   "metadata": {},
   "outputs": [],
   "source": [
    "def sample_dataset(dataset_path, output_path, sample_percent, min_images_per_class=5):\n",
    "    \"\"\"\n",
    "    Samples a percentage of images per class from a dataset organized in class-based directories.\n",
    "    \n",
    "    Args:\n",
    "        dataset_path (str): Path to the dataset directory (organized as one subdirectory per class).\n",
    "        output_path (str): Path to save the sampled dataset.\n",
    "        sample_percent (float): Percentage of images to sample per class (0-100).\n",
    "        min_images_per_class (int): Minimum number of images to sample per class.\n",
    "    \"\"\"\n",
    "    os.makedirs(output_path, exist_ok=True)\n",
    "\n",
    "    # Iterate through each class directory\n",
    "    for class_name in tqdm(os.listdir(dataset_path)):\n",
    "        class_dir = os.path.join(dataset_path, class_name)\n",
    "        \n",
    "        if not os.path.isdir(class_dir):\n",
    "            continue\n",
    "        \n",
    "        # Get all images in the class directory\n",
    "        images = os.listdir(class_dir)\n",
    "        num_images = len(images)\n",
    "        \n",
    "        num_to_sample = max(round(num_images * (sample_percent / 100)), min_images_per_class)\n",
    "        num_to_sample = min(num_to_sample, num_images)\n",
    "        \n",
    "        # Randomly sample images\n",
    "        sampled_images = random.sample(images, num_to_sample)\n",
    "        \n",
    "        # Create class directory in output path\n",
    "        class_output_dir = os.path.join(output_path, class_name)\n",
    "        os.makedirs(class_output_dir, exist_ok=True)\n",
    "        \n",
    "        # Copy sampled images to output directory\n",
    "        for img in sampled_images:\n",
    "            src = os.path.join(class_dir, img)\n",
    "            dst = os.path.join(class_output_dir, img)\n",
    "            shutil.copy(src, dst)\n",
    "\n",
    "    print(f\"Sampling complete. Sampled dataset saved at: {output_path}\")"
   ]
  },
  {
   "cell_type": "code",
   "execution_count": 7,
   "metadata": {},
   "outputs": [],
   "source": [
    "dataset_path = 'data/VGG-Face2/data/vggface2_train/train'\n",
    "output_path = 'data/VGG-Face2_sampled/train'\n",
    "sample_percent = 10\n",
    "min_images_per_class = 5"
   ]
  },
  {
   "cell_type": "code",
   "execution_count": 8,
   "metadata": {},
   "outputs": [
    {
     "name": "stderr",
     "output_type": "stream",
     "text": [
      "  0%|          | 0/8631 [00:00<?, ?it/s]"
     ]
    },
    {
     "name": "stderr",
     "output_type": "stream",
     "text": [
      "100%|██████████| 8631/8631 [1:02:56<00:00,  2.29it/s]"
     ]
    },
    {
     "name": "stdout",
     "output_type": "stream",
     "text": [
      "Sampling complete. Sampled dataset saved at: data/VGG-Face2_sampled/train\n"
     ]
    },
    {
     "name": "stderr",
     "output_type": "stream",
     "text": [
      "\n"
     ]
    }
   ],
   "source": [
    "sample_dataset(dataset_path, output_path, sample_percent, min_images_per_class)"
   ]
  },
  {
   "cell_type": "code",
   "execution_count": null,
   "metadata": {},
   "outputs": [],
   "source": []
  },
  {
   "cell_type": "code",
   "execution_count": null,
   "metadata": {},
   "outputs": [],
   "source": []
  }
 ],
 "metadata": {
  "kernelspec": {
   "display_name": "base",
   "language": "python",
   "name": "python3"
  },
  "language_info": {
   "codemirror_mode": {
    "name": "ipython",
    "version": 3
   },
   "file_extension": ".py",
   "mimetype": "text/x-python",
   "name": "python",
   "nbconvert_exporter": "python",
   "pygments_lexer": "ipython3",
   "version": "3.12.3"
  }
 },
 "nbformat": 4,
 "nbformat_minor": 2
}
